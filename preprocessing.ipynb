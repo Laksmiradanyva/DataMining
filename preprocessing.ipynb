{
  "nbformat": 4,
  "nbformat_minor": 0,
  "metadata": {
    "colab": {
      "name": "preprocessing.ipynb",
      "provenance": [],
      "collapsed_sections": []
    },
    "kernelspec": {
      "name": "python3",
      "display_name": "Python 3"
    },
    "language_info": {
      "name": "python"
    }
  },
  "cells": [
    {
      "cell_type": "code",
      "execution_count": null,
      "metadata": {
        "id": "SBzwSXCSE94C"
      },
      "outputs": [],
      "source": [
        "import numpy as np\n",
        "import matplotlib.pyplot as plt\n",
        "import pandas as pd"
      ]
    },
    {
      "cell_type": "markdown",
      "source": [
        "Numpy merupakan library  phyton digunakan untuk kompotasi matriks. Matplotlib merupakan library phyton untuk presentasi data berupa grafik atau plot . . . .. "
      ],
      "metadata": {
        "id": "pyBxEyn3GluK"
      }
    },
    {
      "cell_type": "code",
      "source": [
        "dataset = pd.read_csv('Dataset.csv')\n",
        "x = dataset.iloc[:, :-1].values\n",
        "y = dataset.iloc[:, -1].values"
      ],
      "metadata": {
        "id": "0oSXg9nxHAXe"
      },
      "execution_count": null,
      "outputs": []
    },
    {
      "cell_type": "code",
      "source": [
        "print (x)\n",
        "print (y)"
      ],
      "metadata": {
        "colab": {
          "base_uri": "https://localhost:8080/"
        },
        "id": "rhRhfEfnHiB0",
        "outputId": "1919ba0c-80b9-43b3-d043-5e4de66d08c2"
      },
      "execution_count": 27,
      "outputs": [
        {
          "output_type": "stream",
          "name": "stdout",
          "text": [
            "[[1.0 0.0 1.0 0.0 49.0 86400.0]\n",
            " [0.0 1.0 0.0 0.0 32.0 57600.0]\n",
            " [1.0 0.0 0.0 1.0 35.0 64800.0]\n",
            " [0.0 1.0 0.0 0.0 43.0 73200.0]\n",
            " [1.0 0.0 0.0 1.0 45.0 76533.33333333333]\n",
            " [1.0 0.0 1.0 0.0 40.0 69600.0]\n",
            " [0.0 1.0 0.0 0.0 43.77777777777778 62400.0]\n",
            " [1.0 0.0 1.0 0.0 53.0 94800.0]\n",
            " [1.0 0.0 0.0 1.0 55.0 99600.0]\n",
            " [1.0 0.0 1.0 0.0 42.0 80400.0]]\n",
            "[1 1 0 0 1 0 0 1 0 1]\n"
          ]
        }
      ]
    },
    {
      "cell_type": "code",
      "source": [
        "from sklearn.impute import SimpleImputer\n",
        "imputer = SimpleImputer(missing_values=np.nan, strategy='mean')\n",
        "imputer.fit(x[:, 1:3])\n",
        "x[:, 1:3] = imputer.transform(x[:, 1:3])"
      ],
      "metadata": {
        "id": "y3QzREy9Jt6u"
      },
      "execution_count": null,
      "outputs": []
    },
    {
      "cell_type": "code",
      "source": [
        "print (x)"
      ],
      "metadata": {
        "colab": {
          "base_uri": "https://localhost:8080/"
        },
        "id": "wwwWCVHJKq64",
        "outputId": "e5fe9ba9-8b0d-44c0-b6eb-61a6a6e3b701"
      },
      "execution_count": 28,
      "outputs": [
        {
          "output_type": "stream",
          "name": "stdout",
          "text": [
            "[[1.0 0.0 1.0 0.0 49.0 86400.0]\n",
            " [0.0 1.0 0.0 0.0 32.0 57600.0]\n",
            " [1.0 0.0 0.0 1.0 35.0 64800.0]\n",
            " [0.0 1.0 0.0 0.0 43.0 73200.0]\n",
            " [1.0 0.0 0.0 1.0 45.0 76533.33333333333]\n",
            " [1.0 0.0 1.0 0.0 40.0 69600.0]\n",
            " [0.0 1.0 0.0 0.0 43.77777777777778 62400.0]\n",
            " [1.0 0.0 1.0 0.0 53.0 94800.0]\n",
            " [1.0 0.0 0.0 1.0 55.0 99600.0]\n",
            " [1.0 0.0 1.0 0.0 42.0 80400.0]]\n"
          ]
        }
      ]
    },
    {
      "cell_type": "code",
      "source": [
        "from sklearn.compose import ColumnTransformer\n",
        "from sklearn.preprocessing import OneHotEncoder\n",
        "ct = ColumnTransformer(transformers=[('encoder',OneHotEncoder(), [0])], remainder='passthrough')\n",
        "x = np.array(ct.fit_transform(x))"
      ],
      "metadata": {
        "id": "1gzAUPqyKuIN"
      },
      "execution_count": null,
      "outputs": []
    },
    {
      "cell_type": "code",
      "source": [
        "print (x)"
      ],
      "metadata": {
        "id": "IEgVBnCILp3T",
        "outputId": "ac1eb878-0fd3-45fa-80e1-d3649b470a9d",
        "colab": {
          "base_uri": "https://localhost:8080/"
        }
      },
      "execution_count": 29,
      "outputs": [
        {
          "output_type": "stream",
          "name": "stdout",
          "text": [
            "[[1.0 0.0 1.0 0.0 49.0 86400.0]\n",
            " [0.0 1.0 0.0 0.0 32.0 57600.0]\n",
            " [1.0 0.0 0.0 1.0 35.0 64800.0]\n",
            " [0.0 1.0 0.0 0.0 43.0 73200.0]\n",
            " [1.0 0.0 0.0 1.0 45.0 76533.33333333333]\n",
            " [1.0 0.0 1.0 0.0 40.0 69600.0]\n",
            " [0.0 1.0 0.0 0.0 43.77777777777778 62400.0]\n",
            " [1.0 0.0 1.0 0.0 53.0 94800.0]\n",
            " [1.0 0.0 0.0 1.0 55.0 99600.0]\n",
            " [1.0 0.0 1.0 0.0 42.0 80400.0]]\n"
          ]
        }
      ]
    },
    {
      "cell_type": "code",
      "source": [
        "from sklearn.preprocessing import LabelEncoder\n",
        "le = LabelEncoder()\n",
        "y = le.fit_transform(y)"
      ],
      "metadata": {
        "id": "2t1BnKLhJkpJ"
      },
      "execution_count": null,
      "outputs": []
    },
    {
      "cell_type": "code",
      "source": [
        "print (y)"
      ],
      "metadata": {
        "colab": {
          "base_uri": "https://localhost:8080/"
        },
        "id": "UOSEtoiyLH-F",
        "outputId": "111832b7-43fb-4a5d-e9ec-42db20a68ab3"
      },
      "execution_count": 30,
      "outputs": [
        {
          "output_type": "stream",
          "name": "stdout",
          "text": [
            "[1 1 0 0 1 0 0 1 0 1]\n"
          ]
        }
      ]
    },
    {
      "cell_type": "code",
      "source": [
        "from sklearn.model_selection import train_test_split\n",
        "x_train, x_test, y_train, y_test = train_test_split(x,y, test_size = 0.2, random_state = 1)"
      ],
      "metadata": {
        "id": "8eIJ6AovLRcS"
      },
      "execution_count": null,
      "outputs": []
    },
    {
      "cell_type": "code",
      "source": [
        "print (x_train)"
      ],
      "metadata": {
        "colab": {
          "base_uri": "https://localhost:8080/"
        },
        "id": "ifkH94kjL-Dl",
        "outputId": "f2662154-e3a4-408b-e008-d847133550cc"
      },
      "execution_count": 31,
      "outputs": [
        {
          "output_type": "stream",
          "name": "stdout",
          "text": [
            "[[0.0 1.0 0.0 -0.5773502691896258 -0.1915918438457856 -1.0781259408412427]\n",
            " [1.0 0.0 0.0 1.7320508075688774 -0.014117293757057902\n",
            "  -0.0701316764163546]\n",
            " [1.0 0.0 1.0 -0.5773502691896258 0.5667085065333239 0.6335624327104548]\n",
            " [0.0 1.0 0.0 -0.5773502691896258 -0.3045301939022488 -0.3078661727429789]\n",
            " [0.0 1.0 0.0 -0.5773502691896258 -1.901801144700799 -1.4204636155515822]\n",
            " [1.0 0.0 1.0 -0.5773502691896258 1.1475343068237056 1.2326533634535488]\n",
            " [1.0 0.0 0.0 1.7320508075688774 1.4379472069688966 1.5749910381638883]\n",
            " [1.0 0.0 1.0 -0.5773502691896258 -0.7401495441200352 -0.5646194287757336]]\n"
          ]
        }
      ]
    },
    {
      "cell_type": "code",
      "source": [
        "print (x_test)"
      ],
      "metadata": {
        "colab": {
          "base_uri": "https://localhost:8080/"
        },
        "id": "VXEmHJ83MCLx",
        "outputId": "75d6fc8a-d2ab-4933-9357-ca26487a0dd4"
      },
      "execution_count": 32,
      "outputs": [
        {
          "output_type": "stream",
          "name": "stdout",
          "text": [
            "[[1.0 0.0 0.0 1.7320508075688774 -1.4661817944830127 -0.9069571034860731]\n",
            " [1.0 0.0 1.0 -0.5773502691896258 -0.44973664397484425\n",
            "  0.20564033932253034]]\n"
          ]
        }
      ]
    },
    {
      "cell_type": "code",
      "source": [
        "print (y_train)"
      ],
      "metadata": {
        "colab": {
          "base_uri": "https://localhost:8080/"
        },
        "id": "fHdijSJXME_l",
        "outputId": "3ef90a44-2fb5-48f3-d6bf-5305eaadc924"
      },
      "execution_count": 33,
      "outputs": [
        {
          "output_type": "stream",
          "name": "stdout",
          "text": [
            "[0 1 1 0 1 1 0 0]\n"
          ]
        }
      ]
    },
    {
      "cell_type": "code",
      "source": [
        "print (y_test)"
      ],
      "metadata": {
        "colab": {
          "base_uri": "https://localhost:8080/"
        },
        "id": "KkM1hJxzMHwj",
        "outputId": "c14c6f8b-b5c0-4cbb-899d-3afe8f43ab5e"
      },
      "execution_count": 34,
      "outputs": [
        {
          "output_type": "stream",
          "name": "stdout",
          "text": [
            "[0 1]\n"
          ]
        }
      ]
    },
    {
      "cell_type": "code",
      "source": [
        "from sklearn.preprocessing import StandardScaler\n",
        "sc = StandardScaler()\n",
        "x_train[:, 3:] = sc.fit_transform(x_train [:, 3:])\n",
        "x_test[:, 3:] = sc.transform(x_test[:, 3:])"
      ],
      "metadata": {
        "id": "2bTJcFKcMLP5"
      },
      "execution_count": null,
      "outputs": []
    },
    {
      "cell_type": "code",
      "source": [
        "print(x_train)"
      ],
      "metadata": {
        "colab": {
          "base_uri": "https://localhost:8080/"
        },
        "id": "O7lFOCfTOCnz",
        "outputId": "251e92d4-0fc0-499a-999e-c64245bc2fab"
      },
      "execution_count": 35,
      "outputs": [
        {
          "output_type": "stream",
          "name": "stdout",
          "text": [
            "[[0.0 1.0 0.0 -0.5773502691896258 -0.1915918438457856 -1.0781259408412427]\n",
            " [1.0 0.0 0.0 1.7320508075688774 -0.014117293757057902\n",
            "  -0.0701316764163546]\n",
            " [1.0 0.0 1.0 -0.5773502691896258 0.5667085065333239 0.6335624327104548]\n",
            " [0.0 1.0 0.0 -0.5773502691896258 -0.3045301939022488 -0.3078661727429789]\n",
            " [0.0 1.0 0.0 -0.5773502691896258 -1.901801144700799 -1.4204636155515822]\n",
            " [1.0 0.0 1.0 -0.5773502691896258 1.1475343068237056 1.2326533634535488]\n",
            " [1.0 0.0 0.0 1.7320508075688774 1.4379472069688966 1.5749910381638883]\n",
            " [1.0 0.0 1.0 -0.5773502691896258 -0.7401495441200352 -0.5646194287757336]]\n"
          ]
        }
      ]
    }
  ]
}